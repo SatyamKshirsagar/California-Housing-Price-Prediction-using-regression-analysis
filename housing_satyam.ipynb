{
 "cells": [
  {
   "cell_type": "markdown",
   "id": "cc92b9e9-b5fc-4c38-b1ef-5912ce855148",
   "metadata": {},
   "source": [
    "###  predcting mredian housing value  "
   ]
  },
  {
   "cell_type": "code",
   "execution_count": 44,
   "id": "691ef122-9f16-44c9-8292-24568e1750c6",
   "metadata": {},
   "outputs": [],
   "source": [
    "# AIM - to predict the median housing price  for a home using linear regression"
   ]
  },
  {
   "cell_type": "code",
   "execution_count": 45,
   "id": "dcbf25cc-37ed-41e4-afd5-6dfb0b8ee151",
   "metadata": {},
   "outputs": [],
   "source": [
    "# here we have imported the file and read the file"
   ]
  },
  {
   "cell_type": "code",
   "execution_count": 46,
   "id": "b65265f2-7860-4110-8b86-6e08b170a04a",
   "metadata": {},
   "outputs": [],
   "source": [
    "import pandas as pd\n",
    "df=pd.read_csv('housing.csv')"
   ]
  },
  {
   "cell_type": "code",
   "execution_count": 47,
   "id": "98fee5ab-a58e-41c6-a006-b8610d4ee647",
   "metadata": {},
   "outputs": [
    {
     "data": {
      "text/plain": [
       "206400"
      ]
     },
     "execution_count": 47,
     "metadata": {},
     "output_type": "execute_result"
    }
   ],
   "source": [
    "df.size"
   ]
  },
  {
   "cell_type": "code",
   "execution_count": 48,
   "id": "f3d0a7b4-6fb8-4f0e-ba93-a75747f67db9",
   "metadata": {},
   "outputs": [
    {
     "data": {
      "text/plain": [
       "(20640, 10)"
      ]
     },
     "execution_count": 48,
     "metadata": {},
     "output_type": "execute_result"
    }
   ],
   "source": [
    "df.shape"
   ]
  },
  {
   "cell_type": "code",
   "execution_count": 49,
   "id": "48807b17-d583-42ea-8f6d-5383a3c45db6",
   "metadata": {},
   "outputs": [
    {
     "data": {
      "text/html": [
       "<div>\n",
       "<style scoped>\n",
       "    .dataframe tbody tr th:only-of-type {\n",
       "        vertical-align: middle;\n",
       "    }\n",
       "\n",
       "    .dataframe tbody tr th {\n",
       "        vertical-align: top;\n",
       "    }\n",
       "\n",
       "    .dataframe thead th {\n",
       "        text-align: right;\n",
       "    }\n",
       "</style>\n",
       "<table border=\"1\" class=\"dataframe\">\n",
       "  <thead>\n",
       "    <tr style=\"text-align: right;\">\n",
       "      <th></th>\n",
       "      <th>longitude</th>\n",
       "      <th>latitude</th>\n",
       "      <th>housing_median_age</th>\n",
       "      <th>total_rooms</th>\n",
       "      <th>total_bedrooms</th>\n",
       "      <th>population</th>\n",
       "      <th>households</th>\n",
       "      <th>median_income</th>\n",
       "      <th>median_house_value</th>\n",
       "      <th>ocean_proximity</th>\n",
       "    </tr>\n",
       "  </thead>\n",
       "  <tbody>\n",
       "    <tr>\n",
       "      <th>0</th>\n",
       "      <td>-122.23</td>\n",
       "      <td>37.88</td>\n",
       "      <td>41.0</td>\n",
       "      <td>880.0</td>\n",
       "      <td>129.0</td>\n",
       "      <td>322.0</td>\n",
       "      <td>126.0</td>\n",
       "      <td>8.3252</td>\n",
       "      <td>452600.0</td>\n",
       "      <td>NEAR BAY</td>\n",
       "    </tr>\n",
       "    <tr>\n",
       "      <th>1</th>\n",
       "      <td>-122.22</td>\n",
       "      <td>37.86</td>\n",
       "      <td>21.0</td>\n",
       "      <td>7099.0</td>\n",
       "      <td>1106.0</td>\n",
       "      <td>2401.0</td>\n",
       "      <td>1138.0</td>\n",
       "      <td>8.3014</td>\n",
       "      <td>358500.0</td>\n",
       "      <td>NEAR BAY</td>\n",
       "    </tr>\n",
       "    <tr>\n",
       "      <th>2</th>\n",
       "      <td>-122.24</td>\n",
       "      <td>37.85</td>\n",
       "      <td>52.0</td>\n",
       "      <td>1467.0</td>\n",
       "      <td>190.0</td>\n",
       "      <td>496.0</td>\n",
       "      <td>177.0</td>\n",
       "      <td>7.2574</td>\n",
       "      <td>352100.0</td>\n",
       "      <td>NEAR BAY</td>\n",
       "    </tr>\n",
       "    <tr>\n",
       "      <th>3</th>\n",
       "      <td>-122.25</td>\n",
       "      <td>37.85</td>\n",
       "      <td>52.0</td>\n",
       "      <td>1274.0</td>\n",
       "      <td>235.0</td>\n",
       "      <td>558.0</td>\n",
       "      <td>219.0</td>\n",
       "      <td>5.6431</td>\n",
       "      <td>341300.0</td>\n",
       "      <td>NEAR BAY</td>\n",
       "    </tr>\n",
       "    <tr>\n",
       "      <th>4</th>\n",
       "      <td>-122.25</td>\n",
       "      <td>37.85</td>\n",
       "      <td>52.0</td>\n",
       "      <td>1627.0</td>\n",
       "      <td>280.0</td>\n",
       "      <td>565.0</td>\n",
       "      <td>259.0</td>\n",
       "      <td>3.8462</td>\n",
       "      <td>342200.0</td>\n",
       "      <td>NEAR BAY</td>\n",
       "    </tr>\n",
       "  </tbody>\n",
       "</table>\n",
       "</div>"
      ],
      "text/plain": [
       "   longitude  latitude  housing_median_age  total_rooms  total_bedrooms  \\\n",
       "0    -122.23     37.88                41.0        880.0           129.0   \n",
       "1    -122.22     37.86                21.0       7099.0          1106.0   \n",
       "2    -122.24     37.85                52.0       1467.0           190.0   \n",
       "3    -122.25     37.85                52.0       1274.0           235.0   \n",
       "4    -122.25     37.85                52.0       1627.0           280.0   \n",
       "\n",
       "   population  households  median_income  median_house_value ocean_proximity  \n",
       "0       322.0       126.0         8.3252            452600.0        NEAR BAY  \n",
       "1      2401.0      1138.0         8.3014            358500.0        NEAR BAY  \n",
       "2       496.0       177.0         7.2574            352100.0        NEAR BAY  \n",
       "3       558.0       219.0         5.6431            341300.0        NEAR BAY  \n",
       "4       565.0       259.0         3.8462            342200.0        NEAR BAY  "
      ]
     },
     "execution_count": 49,
     "metadata": {},
     "output_type": "execute_result"
    }
   ],
   "source": [
    "df.head()"
   ]
  },
  {
   "cell_type": "code",
   "execution_count": 50,
   "id": "01b3b5c8-8852-4f65-bf35-5d6f177c391e",
   "metadata": {},
   "outputs": [
    {
     "data": {
      "text/plain": [
       "<1H OCEAN     9136\n",
       "INLAND        6551\n",
       "NEAR OCEAN    2658\n",
       "NEAR BAY      2290\n",
       "ISLAND           5\n",
       "Name: ocean_proximity, dtype: int64"
      ]
     },
     "execution_count": 50,
     "metadata": {},
     "output_type": "execute_result"
    }
   ],
   "source": [
    "df['ocean_proximity'].value_counts()"
   ]
  },
  {
   "cell_type": "code",
   "execution_count": 51,
   "id": "c465fa02-3659-418b-b899-b388ef9da467",
   "metadata": {},
   "outputs": [
    {
     "name": "stdout",
     "output_type": "stream",
     "text": [
      "<class 'pandas.core.frame.DataFrame'>\n",
      "RangeIndex: 20640 entries, 0 to 20639\n",
      "Data columns (total 10 columns):\n",
      " #   Column              Non-Null Count  Dtype  \n",
      "---  ------              --------------  -----  \n",
      " 0   longitude           20640 non-null  float64\n",
      " 1   latitude            20640 non-null  float64\n",
      " 2   housing_median_age  20640 non-null  float64\n",
      " 3   total_rooms         20640 non-null  float64\n",
      " 4   total_bedrooms      20433 non-null  float64\n",
      " 5   population          20640 non-null  float64\n",
      " 6   households          20640 non-null  float64\n",
      " 7   median_income       20640 non-null  float64\n",
      " 8   median_house_value  20640 non-null  float64\n",
      " 9   ocean_proximity     20640 non-null  object \n",
      "dtypes: float64(9), object(1)\n",
      "memory usage: 1.6+ MB\n"
     ]
    }
   ],
   "source": [
    "df.info()"
   ]
  },
  {
   "cell_type": "code",
   "execution_count": 52,
   "id": "a2ddb02f-c227-45da-8603-5a311b03d9b5",
   "metadata": {},
   "outputs": [
    {
     "data": {
      "text/plain": [
       "longitude               0\n",
       "latitude                0\n",
       "housing_median_age      0\n",
       "total_rooms             0\n",
       "total_bedrooms        207\n",
       "population              0\n",
       "households              0\n",
       "median_income           0\n",
       "median_house_value      0\n",
       "ocean_proximity         0\n",
       "dtype: int64"
      ]
     },
     "execution_count": 52,
     "metadata": {},
     "output_type": "execute_result"
    }
   ],
   "source": [
    "df.isnull().sum()"
   ]
  },
  {
   "cell_type": "code",
   "execution_count": 53,
   "id": "36fcdd67-9f66-42a9-9356-bc00f6aa3321",
   "metadata": {},
   "outputs": [],
   "source": [
    "import matplotlib.pyplot as plt"
   ]
  },
  {
   "cell_type": "code",
   "execution_count": 54,
   "id": "a33638c0-eff3-4f93-9e6e-a062d3b48dcf",
   "metadata": {},
   "outputs": [
    {
     "data": {
      "text/plain": [
       "(array([1.5304e+04, 4.1460e+03, 6.8200e+02, 1.7700e+02, 7.0000e+01,\n",
       "        2.3000e+01, 1.8000e+01, 8.0000e+00, 3.0000e+00, 2.0000e+00]),\n",
       " array([1.0000e+00, 6.4540e+02, 1.2898e+03, 1.9342e+03, 2.5786e+03,\n",
       "        3.2230e+03, 3.8674e+03, 4.5118e+03, 5.1562e+03, 5.8006e+03,\n",
       "        6.4450e+03]),\n",
       " <BarContainer object of 10 artists>)"
      ]
     },
     "execution_count": 54,
     "metadata": {},
     "output_type": "execute_result"
    },
    {
     "data": {
      "image/png": "[encoded data removed]",
      "text/plain": [
       "<Figure size 432x288 with 1 Axes>"
      ]
     },
     "metadata": {
      "needs_background": "light"
     },
     "output_type": "display_data"
    }
   ],
   "source": [
    "plt.hist(df['total_bedrooms'])"
   ]
  },
  {
   "cell_type": "code",
   "execution_count": 55,
   "id": "e25db9cc-438f-40df-bbcb-705b7e830ad2",
   "metadata": {},
   "outputs": [],
   "source": [
    "df['total_bedrooms']=df['total_bedrooms'].fillna(df['total_bedrooms'].mean())"
   ]
  },
  {
   "cell_type": "code",
   "execution_count": 56,
   "id": "b3f172c8-9fc4-4765-b085-d79936103d47",
   "metadata": {},
   "outputs": [
    {
     "data": {
      "text/html": [
       "<div>\n",
       "<style scoped>\n",
       "    .dataframe tbody tr th:only-of-type {\n",
       "        vertical-align: middle;\n",
       "    }\n",
       "\n",
       "    .dataframe tbody tr th {\n",
       "        vertical-align: top;\n",
       "    }\n",
       "\n",
       "    .dataframe thead th {\n",
       "        text-align: right;\n",
       "    }\n",
       "</style>\n",
       "<table border=\"1\" class=\"dataframe\">\n",
       "  <thead>\n",
       "    <tr style=\"text-align: right;\">\n",
       "      <th></th>\n",
       "      <th>longitude</th>\n",
       "      <th>latitude</th>\n",
       "      <th>housing_median_age</th>\n",
       "      <th>total_rooms</th>\n",
       "      <th>total_bedrooms</th>\n",
       "      <th>population</th>\n",
       "      <th>households</th>\n",
       "      <th>median_income</th>\n",
       "      <th>median_house_value</th>\n",
       "    </tr>\n",
       "  </thead>\n",
       "  <tbody>\n",
       "    <tr>\n",
       "      <th>longitude</th>\n",
       "      <td>1.000000</td>\n",
       "      <td>-0.924664</td>\n",
       "      <td>-0.108197</td>\n",
       "      <td>0.044568</td>\n",
       "      <td>0.069260</td>\n",
       "      <td>0.099773</td>\n",
       "      <td>0.055310</td>\n",
       "      <td>-0.015176</td>\n",
       "      <td>-0.045967</td>\n",
       "    </tr>\n",
       "    <tr>\n",
       "      <th>latitude</th>\n",
       "      <td>-0.924664</td>\n",
       "      <td>1.000000</td>\n",
       "      <td>0.011173</td>\n",
       "      <td>-0.036100</td>\n",
       "      <td>-0.066658</td>\n",
       "      <td>-0.108785</td>\n",
       "      <td>-0.071035</td>\n",
       "      <td>-0.079809</td>\n",
       "      <td>-0.144160</td>\n",
       "    </tr>\n",
       "    <tr>\n",
       "      <th>housing_median_age</th>\n",
       "      <td>-0.108197</td>\n",
       "      <td>0.011173</td>\n",
       "      <td>1.000000</td>\n",
       "      <td>-0.361262</td>\n",
       "      <td>-0.318998</td>\n",
       "      <td>-0.296244</td>\n",
       "      <td>-0.302916</td>\n",
       "      <td>-0.119034</td>\n",
       "      <td>0.105623</td>\n",
       "    </tr>\n",
       "    <tr>\n",
       "      <th>total_rooms</th>\n",
       "      <td>0.044568</td>\n",
       "      <td>-0.036100</td>\n",
       "      <td>-0.361262</td>\n",
       "      <td>1.000000</td>\n",
       "      <td>0.927253</td>\n",
       "      <td>0.857126</td>\n",
       "      <td>0.918484</td>\n",
       "      <td>0.198050</td>\n",
       "      <td>0.134153</td>\n",
       "    </tr>\n",
       "    <tr>\n",
       "      <th>total_bedrooms</th>\n",
       "      <td>0.069260</td>\n",
       "      <td>-0.066658</td>\n",
       "      <td>-0.318998</td>\n",
       "      <td>0.927253</td>\n",
       "      <td>1.000000</td>\n",
       "      <td>0.873910</td>\n",
       "      <td>0.974725</td>\n",
       "      <td>-0.007682</td>\n",
       "      <td>0.049454</td>\n",
       "    </tr>\n",
       "    <tr>\n",
       "      <th>population</th>\n",
       "      <td>0.099773</td>\n",
       "      <td>-0.108785</td>\n",
       "      <td>-0.296244</td>\n",
       "      <td>0.857126</td>\n",
       "      <td>0.873910</td>\n",
       "      <td>1.000000</td>\n",
       "      <td>0.907222</td>\n",
       "      <td>0.004834</td>\n",
       "      <td>-0.024650</td>\n",
       "    </tr>\n",
       "    <tr>\n",
       "      <th>households</th>\n",
       "      <td>0.055310</td>\n",
       "      <td>-0.071035</td>\n",
       "      <td>-0.302916</td>\n",
       "      <td>0.918484</td>\n",
       "      <td>0.974725</td>\n",
       "      <td>0.907222</td>\n",
       "      <td>1.000000</td>\n",
       "      <td>0.013033</td>\n",
       "      <td>0.065843</td>\n",
       "    </tr>\n",
       "    <tr>\n",
       "      <th>median_income</th>\n",
       "      <td>-0.015176</td>\n",
       "      <td>-0.079809</td>\n",
       "      <td>-0.119034</td>\n",
       "      <td>0.198050</td>\n",
       "      <td>-0.007682</td>\n",
       "      <td>0.004834</td>\n",
       "      <td>0.013033</td>\n",
       "      <td>1.000000</td>\n",
       "      <td>0.688075</td>\n",
       "    </tr>\n",
       "    <tr>\n",
       "      <th>median_house_value</th>\n",
       "      <td>-0.045967</td>\n",
       "      <td>-0.144160</td>\n",
       "      <td>0.105623</td>\n",
       "      <td>0.134153</td>\n",
       "      <td>0.049454</td>\n",
       "      <td>-0.024650</td>\n",
       "      <td>0.065843</td>\n",
       "      <td>0.688075</td>\n",
       "      <td>1.000000</td>\n",
       "    </tr>\n",
       "  </tbody>\n",
       "</table>\n",
       "</div>"
      ],
      "text/plain": [
       "                    longitude  latitude  housing_median_age  total_rooms  \\\n",
       "longitude            1.000000 -0.924664           -0.108197     0.044568   \n",
       "latitude            -0.924664  1.000000            0.011173    -0.036100   \n",
       "housing_median_age  -0.108197  0.011173            1.000000    -0.361262   \n",
       "total_rooms          0.044568 -0.036100           -0.361262     1.000000   \n",
       "total_bedrooms       0.069260 -0.066658           -0.318998     0.927253   \n",
       "population           0.099773 -0.108785           -0.296244     0.857126   \n",
       "households           0.055310 -0.071035           -0.302916     0.918484   \n",
       "median_income       -0.015176 -0.079809           -0.119034     0.198050   \n",
       "median_house_value  -0.045967 -0.144160            0.105623     0.134153   \n",
       "\n",
       "                    total_bedrooms  population  households  median_income  \\\n",
       "longitude                 0.069260    0.099773    0.055310      -0.015176   \n",
       "latitude                 -0.066658   -0.108785   -0.071035      -0.079809   \n",
       "housing_median_age       -0.318998   -0.296244   -0.302916      -0.119034   \n",
       "total_rooms               0.927253    0.857126    0.918484       0.198050   \n",
       "total_bedrooms            1.000000    0.873910    0.974725      -0.007682   \n",
       "population                0.873910    1.000000    0.907222       0.004834   \n",
       "households                0.974725    0.907222    1.000000       0.013033   \n",
       "median_income            -0.007682    0.004834    0.013033       1.000000   \n",
       "median_house_value        0.049454   -0.024650    0.065843       0.688075   \n",
       "\n",
       "                    median_house_value  \n",
       "longitude                    -0.045967  \n",
       "latitude                     -0.144160  \n",
       "housing_median_age            0.105623  \n",
       "total_rooms                   0.134153  \n",
       "total_bedrooms                0.049454  \n",
       "population                   -0.024650  \n",
       "households                    0.065843  \n",
       "median_income                 0.688075  \n",
       "median_house_value            1.000000  "
      ]
     },
     "execution_count": 56,
     "metadata": {},
     "output_type": "execute_result"
    }
   ],
   "source": [
    "df.corr()"
   ]
  },
  {
   "cell_type": "code",
   "execution_count": 57,
   "id": "bf5773dd-6b98-4556-b8cf-de79fd9cf400",
   "metadata": {},
   "outputs": [
    {
     "data": {
      "text/plain": [
       "longitude             0\n",
       "latitude              0\n",
       "housing_median_age    0\n",
       "total_rooms           0\n",
       "total_bedrooms        0\n",
       "population            0\n",
       "households            0\n",
       "median_income         0\n",
       "median_house_value    0\n",
       "ocean_proximity       0\n",
       "dtype: int64"
      ]
     },
     "execution_count": 57,
     "metadata": {},
     "output_type": "execute_result"
    }
   ],
   "source": [
    "df.isnull().sum()"
   ]
  },
  {
   "cell_type": "code",
   "execution_count": 58,
   "id": "0d48fc8f-c163-4b03-aa0c-72666a132db4",
   "metadata": {},
   "outputs": [],
   "source": [
    "import seaborn as sns"
   ]
  },
  {
   "cell_type": "code",
   "execution_count": 59,
   "id": "5acdda4f-cdcb-4fd1-809b-bc3c3ab46322",
   "metadata": {},
   "outputs": [
    {
     "data": {
      "text/plain": [
       "<AxesSubplot:>"
      ]
     },
     "execution_count": 59,
     "metadata": {},
     "output_type": "execute_result"
    },
    {
     "data": {
      "image/png": "[encoded data removed]",
      "text/plain": [
       "<Figure size 432x288 with 2 Axes>"
      ]
     },
     "metadata": {
      "needs_background": "light"
     },
     "output_type": "display_data"
    }
   ],
   "source": [
    "sns.heatmap(df.corr(),annot=True)"
   ]
  },
  {
   "cell_type": "code",
   "execution_count": 60,
   "id": "a94cf714-5128-4714-9f6b-dbfcce21a756",
   "metadata": {},
   "outputs": [],
   "source": [
    "df1=df.drop(['median_house_value'],axis=1)"
   ]
  },
  {
   "cell_type": "code",
   "execution_count": 61,
   "id": "3fea8fcd-2e81-43c2-96a3-3169dff69e3f",
   "metadata": {},
   "outputs": [],
   "source": [
    "# applyig chi-squre test for feature engineearing "
   ]
  },
  {
   "cell_type": "code",
   "execution_count": 62,
   "id": "c39c4e49-8b04-4407-ba90-07fddc277797",
   "metadata": {},
   "outputs": [],
   "source": [
    "# ho=there is no relation between given variable and targer column"
   ]
  },
  {
   "cell_type": "code",
   "execution_count": 63,
   "id": "4b6d3ddc-9937-435e-a593-24dc1a529414",
   "metadata": {},
   "outputs": [],
   "source": [
    "# considering 5% of error margin if p_value <0.05 we reject the null"
   ]
  },
  {
   "cell_type": "code",
   "execution_count": 64,
   "id": "a67005e2-217f-4f00-90dc-29c3d856d42e",
   "metadata": {},
   "outputs": [
    {
     "name": "stdout",
     "output_type": "stream",
     "text": [
      "longitude has p_values of 1.0\n",
      "latitude has p_values of 1.0\n",
      "housing_median_age has p_values of 0.9814367004795036\n",
      "total_bedrooms has p_values of 0.9937090722128754\n",
      "population has p_values of 1.0\n"
     ]
    }
   ],
   "source": [
    "for cols in df1.columns:\n",
    "    df2=pd.crosstab(df1[cols],df['median_house_value'])\n",
    "    from scipy.stats import chi2_contingency\n",
    "    a,p_value,b,c=chi2_contingency(df2)\n",
    "    if p_value>0.05:\n",
    "        print(f'{cols} has p_values of {(p_value)}')\n",
    "    \n",
    "\n",
    "\n"
   ]
  },
  {
   "cell_type": "code",
   "execution_count": 65,
   "id": "03964c7c-c60f-4fb6-9d1f-e1c31cb9fec9",
   "metadata": {},
   "outputs": [],
   "source": [
    "# from this hypothesis and conforming from corelation matrix we can drop 'longitude','latitude','housing_median_age ','total_bedrooms\n",
    "# population\n"
   ]
  },
  {
   "cell_type": "code",
   "execution_count": 66,
   "id": "3a29a60d-456e-49ec-8c6d-084866fbd3a6",
   "metadata": {},
   "outputs": [
    {
     "data": {
      "text/html": [
       "<div>\n",
       "<style scoped>\n",
       "    .dataframe tbody tr th:only-of-type {\n",
       "        vertical-align: middle;\n",
       "    }\n",
       "\n",
       "    .dataframe tbody tr th {\n",
       "        vertical-align: top;\n",
       "    }\n",
       "\n",
       "    .dataframe thead th {\n",
       "        text-align: right;\n",
       "    }\n",
       "</style>\n",
       "<table border=\"1\" class=\"dataframe\">\n",
       "  <thead>\n",
       "    <tr style=\"text-align: right;\">\n",
       "      <th></th>\n",
       "      <th>longitude</th>\n",
       "      <th>latitude</th>\n",
       "      <th>housing_median_age</th>\n",
       "      <th>total_rooms</th>\n",
       "      <th>total_bedrooms</th>\n",
       "      <th>population</th>\n",
       "      <th>households</th>\n",
       "      <th>median_income</th>\n",
       "      <th>ocean_proximity</th>\n",
       "    </tr>\n",
       "  </thead>\n",
       "  <tbody>\n",
       "    <tr>\n",
       "      <th>0</th>\n",
       "      <td>-122.23</td>\n",
       "      <td>37.88</td>\n",
       "      <td>41.0</td>\n",
       "      <td>880.0</td>\n",
       "      <td>129.0</td>\n",
       "      <td>322.0</td>\n",
       "      <td>126.0</td>\n",
       "      <td>8.3252</td>\n",
       "      <td>NEAR BAY</td>\n",
       "    </tr>\n",
       "  </tbody>\n",
       "</table>\n",
       "</div>"
      ],
      "text/plain": [
       "   longitude  latitude  housing_median_age  total_rooms  total_bedrooms  \\\n",
       "0    -122.23     37.88                41.0        880.0           129.0   \n",
       "\n",
       "   population  households  median_income ocean_proximity  \n",
       "0       322.0       126.0         8.3252        NEAR BAY  "
      ]
     },
     "execution_count": 66,
     "metadata": {},
     "output_type": "execute_result"
    }
   ],
   "source": [
    "df1.head(1)"
   ]
  },
  {
   "cell_type": "code",
   "execution_count": 67,
   "id": "27f0bd49-21ea-48dc-9bca-5a3c6e944d60",
   "metadata": {},
   "outputs": [],
   "source": [
    "df2=df1.drop(['ocean_proximity'],axis=1)"
   ]
  },
  {
   "cell_type": "code",
   "execution_count": 68,
   "id": "2b3d2c4e-e35e-484e-b67d-d48ca0d69035",
   "metadata": {},
   "outputs": [],
   "source": [
    "from sklearn.preprocessing import StandardScaler"
   ]
  },
  {
   "cell_type": "code",
   "execution_count": 69,
   "id": "20e31aef-fb64-45c9-9015-c308407e1cc4",
   "metadata": {},
   "outputs": [],
   "source": [
    "sd=StandardScaler()"
   ]
  },
  {
   "cell_type": "code",
   "execution_count": 70,
   "id": "f5cdd86e-a099-4cb1-8ffd-ca561cab05e5",
   "metadata": {},
   "outputs": [],
   "source": [
    "std_df=sd.fit_transform(df2)"
   ]
  },
  {
   "cell_type": "code",
   "execution_count": 71,
   "id": "a5af7a0a-981f-4a73-87fe-0211829ce5a5",
   "metadata": {},
   "outputs": [],
   "source": [
    "df3=pd.DataFrame(std_df)"
   ]
  },
  {
   "cell_type": "code",
   "execution_count": 72,
   "id": "cf507ad1-ef4b-4a2d-be3d-c5f8a4fc8a21",
   "metadata": {},
   "outputs": [],
   "source": [
    "df3.columns=['longitude','latitude','housing_median_age','total_rooms','total_bedrooms','population','households','median_income']"
   ]
  },
  {
   "cell_type": "code",
   "execution_count": 73,
   "id": "5ebce8ee-5811-4187-9efc-fd225c24bb5f",
   "metadata": {},
   "outputs": [
    {
     "data": {
      "text/html": [
       "<div>\n",
       "<style scoped>\n",
       "    .dataframe tbody tr th:only-of-type {\n",
       "        vertical-align: middle;\n",
       "    }\n",
       "\n",
       "    .dataframe tbody tr th {\n",
       "        vertical-align: top;\n",
       "    }\n",
       "\n",
       "    .dataframe thead th {\n",
       "        text-align: right;\n",
       "    }\n",
       "</style>\n",
       "<table border=\"1\" class=\"dataframe\">\n",
       "  <thead>\n",
       "    <tr style=\"text-align: right;\">\n",
       "      <th></th>\n",
       "      <th>longitude</th>\n",
       "      <th>latitude</th>\n",
       "      <th>housing_median_age</th>\n",
       "      <th>total_rooms</th>\n",
       "      <th>total_bedrooms</th>\n",
       "      <th>population</th>\n",
       "      <th>households</th>\n",
       "      <th>median_income</th>\n",
       "    </tr>\n",
       "  </thead>\n",
       "  <tbody>\n",
       "    <tr>\n",
       "      <th>0</th>\n",
       "      <td>-1.327835</td>\n",
       "      <td>1.052548</td>\n",
       "      <td>0.982143</td>\n",
       "      <td>-0.804819</td>\n",
       "      <td>-0.975228</td>\n",
       "      <td>-0.974429</td>\n",
       "      <td>-0.977033</td>\n",
       "      <td>2.344766</td>\n",
       "    </tr>\n",
       "  </tbody>\n",
       "</table>\n",
       "</div>"
      ],
      "text/plain": [
       "   longitude  latitude  housing_median_age  total_rooms  total_bedrooms  \\\n",
       "0  -1.327835  1.052548            0.982143    -0.804819       -0.975228   \n",
       "\n",
       "   population  households  median_income  \n",
       "0   -0.974429   -0.977033       2.344766  "
      ]
     },
     "execution_count": 73,
     "metadata": {},
     "output_type": "execute_result"
    }
   ],
   "source": [
    "df3.head(1)"
   ]
  },
  {
   "cell_type": "code",
   "execution_count": 74,
   "id": "3f4b64f1-ad10-43b5-8ca6-70744f70f3c6",
   "metadata": {},
   "outputs": [],
   "source": [
    "final_df=pd.concat([df3,df1['ocean_proximity']],axis=1)"
   ]
  },
  {
   "cell_type": "code",
   "execution_count": 75,
   "id": "fe35d5c9-9609-48f2-9ce4-2bffdc4a06a7",
   "metadata": {},
   "outputs": [],
   "source": [
    "### since cean_proximity being nominal categorical hence converting into numerical using technique of one-hot-encoding"
   ]
  },
  {
   "cell_type": "code",
   "execution_count": 76,
   "id": "933dd767-41af-4d4a-9702-aaa80caa1a29",
   "metadata": {},
   "outputs": [],
   "source": [
    "df4=pd.get_dummies(final_df)"
   ]
  },
  {
   "cell_type": "code",
   "execution_count": 77,
   "id": "4d9bf3bd-990c-4b53-b0e6-9403824fb10d",
   "metadata": {},
   "outputs": [
    {
     "data": {
      "text/html": [
       "<div>\n",
       "<style scoped>\n",
       "    .dataframe tbody tr th:only-of-type {\n",
       "        vertical-align: middle;\n",
       "    }\n",
       "\n",
       "    .dataframe tbody tr th {\n",
       "        vertical-align: top;\n",
       "    }\n",
       "\n",
       "    .dataframe thead th {\n",
       "        text-align: right;\n",
       "    }\n",
       "</style>\n",
       "<table border=\"1\" class=\"dataframe\">\n",
       "  <thead>\n",
       "    <tr style=\"text-align: right;\">\n",
       "      <th></th>\n",
       "      <th>longitude</th>\n",
       "      <th>latitude</th>\n",
       "      <th>housing_median_age</th>\n",
       "      <th>total_rooms</th>\n",
       "      <th>total_bedrooms</th>\n",
       "      <th>population</th>\n",
       "      <th>households</th>\n",
       "      <th>median_income</th>\n",
       "      <th>ocean_proximity_&lt;1H OCEAN</th>\n",
       "      <th>ocean_proximity_INLAND</th>\n",
       "      <th>ocean_proximity_ISLAND</th>\n",
       "      <th>ocean_proximity_NEAR BAY</th>\n",
       "      <th>ocean_proximity_NEAR OCEAN</th>\n",
       "    </tr>\n",
       "  </thead>\n",
       "  <tbody>\n",
       "    <tr>\n",
       "      <th>0</th>\n",
       "      <td>-1.327835</td>\n",
       "      <td>1.052548</td>\n",
       "      <td>0.982143</td>\n",
       "      <td>-0.804819</td>\n",
       "      <td>-0.975228</td>\n",
       "      <td>-0.974429</td>\n",
       "      <td>-0.977033</td>\n",
       "      <td>2.344766</td>\n",
       "      <td>0</td>\n",
       "      <td>0</td>\n",
       "      <td>0</td>\n",
       "      <td>1</td>\n",
       "      <td>0</td>\n",
       "    </tr>\n",
       "    <tr>\n",
       "      <th>1</th>\n",
       "      <td>-1.322844</td>\n",
       "      <td>1.043185</td>\n",
       "      <td>-0.607019</td>\n",
       "      <td>2.045890</td>\n",
       "      <td>1.355088</td>\n",
       "      <td>0.861439</td>\n",
       "      <td>1.669961</td>\n",
       "      <td>2.332238</td>\n",
       "      <td>0</td>\n",
       "      <td>0</td>\n",
       "      <td>0</td>\n",
       "      <td>1</td>\n",
       "      <td>0</td>\n",
       "    </tr>\n",
       "    <tr>\n",
       "      <th>2</th>\n",
       "      <td>-1.332827</td>\n",
       "      <td>1.038503</td>\n",
       "      <td>1.856182</td>\n",
       "      <td>-0.535746</td>\n",
       "      <td>-0.829732</td>\n",
       "      <td>-0.820777</td>\n",
       "      <td>-0.843637</td>\n",
       "      <td>1.782699</td>\n",
       "      <td>0</td>\n",
       "      <td>0</td>\n",
       "      <td>0</td>\n",
       "      <td>1</td>\n",
       "      <td>0</td>\n",
       "    </tr>\n",
       "    <tr>\n",
       "      <th>3</th>\n",
       "      <td>-1.337818</td>\n",
       "      <td>1.038503</td>\n",
       "      <td>1.856182</td>\n",
       "      <td>-0.624215</td>\n",
       "      <td>-0.722399</td>\n",
       "      <td>-0.766028</td>\n",
       "      <td>-0.733781</td>\n",
       "      <td>0.932968</td>\n",
       "      <td>0</td>\n",
       "      <td>0</td>\n",
       "      <td>0</td>\n",
       "      <td>1</td>\n",
       "      <td>0</td>\n",
       "    </tr>\n",
       "    <tr>\n",
       "      <th>4</th>\n",
       "      <td>-1.337818</td>\n",
       "      <td>1.038503</td>\n",
       "      <td>1.856182</td>\n",
       "      <td>-0.462404</td>\n",
       "      <td>-0.615066</td>\n",
       "      <td>-0.759847</td>\n",
       "      <td>-0.629157</td>\n",
       "      <td>-0.012881</td>\n",
       "      <td>0</td>\n",
       "      <td>0</td>\n",
       "      <td>0</td>\n",
       "      <td>1</td>\n",
       "      <td>0</td>\n",
       "    </tr>\n",
       "    <tr>\n",
       "      <th>...</th>\n",
       "      <td>...</td>\n",
       "      <td>...</td>\n",
       "      <td>...</td>\n",
       "      <td>...</td>\n",
       "      <td>...</td>\n",
       "      <td>...</td>\n",
       "      <td>...</td>\n",
       "      <td>...</td>\n",
       "      <td>...</td>\n",
       "      <td>...</td>\n",
       "      <td>...</td>\n",
       "      <td>...</td>\n",
       "      <td>...</td>\n",
       "    </tr>\n",
       "    <tr>\n",
       "      <th>20635</th>\n",
       "      <td>-0.758826</td>\n",
       "      <td>1.801647</td>\n",
       "      <td>-0.289187</td>\n",
       "      <td>-0.444985</td>\n",
       "      <td>-0.390860</td>\n",
       "      <td>-0.512592</td>\n",
       "      <td>-0.443449</td>\n",
       "      <td>-1.216128</td>\n",
       "      <td>0</td>\n",
       "      <td>1</td>\n",
       "      <td>0</td>\n",
       "      <td>0</td>\n",
       "      <td>0</td>\n",
       "    </tr>\n",
       "    <tr>\n",
       "      <th>20636</th>\n",
       "      <td>-0.818722</td>\n",
       "      <td>1.806329</td>\n",
       "      <td>-0.845393</td>\n",
       "      <td>-0.888704</td>\n",
       "      <td>-0.925139</td>\n",
       "      <td>-0.944405</td>\n",
       "      <td>-1.008420</td>\n",
       "      <td>-0.691593</td>\n",
       "      <td>0</td>\n",
       "      <td>1</td>\n",
       "      <td>0</td>\n",
       "      <td>0</td>\n",
       "      <td>0</td>\n",
       "    </tr>\n",
       "    <tr>\n",
       "      <th>20637</th>\n",
       "      <td>-0.823713</td>\n",
       "      <td>1.778237</td>\n",
       "      <td>-0.924851</td>\n",
       "      <td>-0.174995</td>\n",
       "      <td>-0.126106</td>\n",
       "      <td>-0.369537</td>\n",
       "      <td>-0.174042</td>\n",
       "      <td>-1.142593</td>\n",
       "      <td>0</td>\n",
       "      <td>1</td>\n",
       "      <td>0</td>\n",
       "      <td>0</td>\n",
       "      <td>0</td>\n",
       "    </tr>\n",
       "    <tr>\n",
       "      <th>20638</th>\n",
       "      <td>-0.873626</td>\n",
       "      <td>1.778237</td>\n",
       "      <td>-0.845393</td>\n",
       "      <td>-0.355600</td>\n",
       "      <td>-0.307379</td>\n",
       "      <td>-0.604429</td>\n",
       "      <td>-0.393753</td>\n",
       "      <td>-1.054583</td>\n",
       "      <td>0</td>\n",
       "      <td>1</td>\n",
       "      <td>0</td>\n",
       "      <td>0</td>\n",
       "      <td>0</td>\n",
       "    </tr>\n",
       "    <tr>\n",
       "      <th>20639</th>\n",
       "      <td>-0.833696</td>\n",
       "      <td>1.750146</td>\n",
       "      <td>-1.004309</td>\n",
       "      <td>0.068408</td>\n",
       "      <td>0.186352</td>\n",
       "      <td>-0.033977</td>\n",
       "      <td>0.079672</td>\n",
       "      <td>-0.780129</td>\n",
       "      <td>0</td>\n",
       "      <td>1</td>\n",
       "      <td>0</td>\n",
       "      <td>0</td>\n",
       "      <td>0</td>\n",
       "    </tr>\n",
       "  </tbody>\n",
       "</table>\n",
       "<p>20640 rows × 13 columns</p>\n",
       "</div>"
      ],
      "text/plain": [
       "       longitude  latitude  housing_median_age  total_rooms  total_bedrooms  \\\n",
       "0      -1.327835  1.052548            0.982143    -0.804819       -0.975228   \n",
       "1      -1.322844  1.043185           -0.607019     2.045890        1.355088   \n",
       "2      -1.332827  1.038503            1.856182    -0.535746       -0.829732   \n",
       "3      -1.337818  1.038503            1.856182    -0.624215       -0.722399   \n",
       "4      -1.337818  1.038503            1.856182    -0.462404       -0.615066   \n",
       "...          ...       ...                 ...          ...             ...   \n",
       "20635  -0.758826  1.801647           -0.289187    -0.444985       -0.390860   \n",
       "20636  -0.818722  1.806329           -0.845393    -0.888704       -0.925139   \n",
       "20637  -0.823713  1.778237           -0.924851    -0.174995       -0.126106   \n",
       "20638  -0.873626  1.778237           -0.845393    -0.355600       -0.307379   \n",
       "20639  -0.833696  1.750146           -1.004309     0.068408        0.186352   \n",
       "\n",
       "       population  households  median_income  ocean_proximity_<1H OCEAN  \\\n",
       "0       -0.974429   -0.977033       2.344766                          0   \n",
       "1        0.861439    1.669961       2.332238                          0   \n",
       "2       -0.820777   -0.843637       1.782699                          0   \n",
       "3       -0.766028   -0.733781       0.932968                          0   \n",
       "4       -0.759847   -0.629157      -0.012881                          0   \n",
       "...           ...         ...            ...                        ...   \n",
       "20635   -0.512592   -0.443449      -1.216128                          0   \n",
       "20636   -0.944405   -1.008420      -0.691593                          0   \n",
       "20637   -0.369537   -0.174042      -1.142593                          0   \n",
       "20638   -0.604429   -0.393753      -1.054583                          0   \n",
       "20639   -0.033977    0.079672      -0.780129                          0   \n",
       "\n",
       "       ocean_proximity_INLAND  ocean_proximity_ISLAND  \\\n",
       "0                           0                       0   \n",
       "1                           0                       0   \n",
       "2                           0                       0   \n",
       "3                           0                       0   \n",
       "4                           0                       0   \n",
       "...                       ...                     ...   \n",
       "20635                       1                       0   \n",
       "20636                       1                       0   \n",
       "20637                       1                       0   \n",
       "20638                       1                       0   \n",
       "20639                       1                       0   \n",
       "\n",
       "       ocean_proximity_NEAR BAY  ocean_proximity_NEAR OCEAN  \n",
       "0                             1                           0  \n",
       "1                             1                           0  \n",
       "2                             1                           0  \n",
       "3                             1                           0  \n",
       "4                             1                           0  \n",
       "...                         ...                         ...  \n",
       "20635                         0                           0  \n",
       "20636                         0                           0  \n",
       "20637                         0                           0  \n",
       "20638                         0                           0  \n",
       "20639                         0                           0  \n",
       "\n",
       "[20640 rows x 13 columns]"
      ]
     },
     "execution_count": 77,
     "metadata": {},
     "output_type": "execute_result"
    }
   ],
   "source": [
    "df4"
   ]
  },
  {
   "cell_type": "code",
   "execution_count": 78,
   "id": "3f63f597-e160-44cf-81db-2f649b2d651d",
   "metadata": {},
   "outputs": [],
   "source": [
    "final_df1=pd.concat([df4,df['median_house_value']],axis=1)"
   ]
  },
  {
   "cell_type": "code",
   "execution_count": 79,
   "id": "0c24755f-4dbe-467d-b850-7de06e1eff92",
   "metadata": {},
   "outputs": [
    {
     "data": {
      "text/html": [
       "<div>\n",
       "<style scoped>\n",
       "    .dataframe tbody tr th:only-of-type {\n",
       "        vertical-align: middle;\n",
       "    }\n",
       "\n",
       "    .dataframe tbody tr th {\n",
       "        vertical-align: top;\n",
       "    }\n",
       "\n",
       "    .dataframe thead th {\n",
       "        text-align: right;\n",
       "    }\n",
       "</style>\n",
       "<table border=\"1\" class=\"dataframe\">\n",
       "  <thead>\n",
       "    <tr style=\"text-align: right;\">\n",
       "      <th></th>\n",
       "      <th>longitude</th>\n",
       "      <th>latitude</th>\n",
       "      <th>housing_median_age</th>\n",
       "      <th>total_rooms</th>\n",
       "      <th>total_bedrooms</th>\n",
       "      <th>population</th>\n",
       "      <th>households</th>\n",
       "      <th>median_income</th>\n",
       "      <th>ocean_proximity_&lt;1H OCEAN</th>\n",
       "      <th>ocean_proximity_INLAND</th>\n",
       "      <th>ocean_proximity_ISLAND</th>\n",
       "      <th>ocean_proximity_NEAR BAY</th>\n",
       "      <th>ocean_proximity_NEAR OCEAN</th>\n",
       "      <th>median_house_value</th>\n",
       "    </tr>\n",
       "  </thead>\n",
       "  <tbody>\n",
       "    <tr>\n",
       "      <th>0</th>\n",
       "      <td>-1.327835</td>\n",
       "      <td>1.052548</td>\n",
       "      <td>0.982143</td>\n",
       "      <td>-0.804819</td>\n",
       "      <td>-0.975228</td>\n",
       "      <td>-0.974429</td>\n",
       "      <td>-0.977033</td>\n",
       "      <td>2.344766</td>\n",
       "      <td>0</td>\n",
       "      <td>0</td>\n",
       "      <td>0</td>\n",
       "      <td>1</td>\n",
       "      <td>0</td>\n",
       "      <td>452600.0</td>\n",
       "    </tr>\n",
       "    <tr>\n",
       "      <th>1</th>\n",
       "      <td>-1.322844</td>\n",
       "      <td>1.043185</td>\n",
       "      <td>-0.607019</td>\n",
       "      <td>2.045890</td>\n",
       "      <td>1.355088</td>\n",
       "      <td>0.861439</td>\n",
       "      <td>1.669961</td>\n",
       "      <td>2.332238</td>\n",
       "      <td>0</td>\n",
       "      <td>0</td>\n",
       "      <td>0</td>\n",
       "      <td>1</td>\n",
       "      <td>0</td>\n",
       "      <td>358500.0</td>\n",
       "    </tr>\n",
       "    <tr>\n",
       "      <th>2</th>\n",
       "      <td>-1.332827</td>\n",
       "      <td>1.038503</td>\n",
       "      <td>1.856182</td>\n",
       "      <td>-0.535746</td>\n",
       "      <td>-0.829732</td>\n",
       "      <td>-0.820777</td>\n",
       "      <td>-0.843637</td>\n",
       "      <td>1.782699</td>\n",
       "      <td>0</td>\n",
       "      <td>0</td>\n",
       "      <td>0</td>\n",
       "      <td>1</td>\n",
       "      <td>0</td>\n",
       "      <td>352100.0</td>\n",
       "    </tr>\n",
       "    <tr>\n",
       "      <th>3</th>\n",
       "      <td>-1.337818</td>\n",
       "      <td>1.038503</td>\n",
       "      <td>1.856182</td>\n",
       "      <td>-0.624215</td>\n",
       "      <td>-0.722399</td>\n",
       "      <td>-0.766028</td>\n",
       "      <td>-0.733781</td>\n",
       "      <td>0.932968</td>\n",
       "      <td>0</td>\n",
       "      <td>0</td>\n",
       "      <td>0</td>\n",
       "      <td>1</td>\n",
       "      <td>0</td>\n",
       "      <td>341300.0</td>\n",
       "    </tr>\n",
       "    <tr>\n",
       "      <th>4</th>\n",
       "      <td>-1.337818</td>\n",
       "      <td>1.038503</td>\n",
       "      <td>1.856182</td>\n",
       "      <td>-0.462404</td>\n",
       "      <td>-0.615066</td>\n",
       "      <td>-0.759847</td>\n",
       "      <td>-0.629157</td>\n",
       "      <td>-0.012881</td>\n",
       "      <td>0</td>\n",
       "      <td>0</td>\n",
       "      <td>0</td>\n",
       "      <td>1</td>\n",
       "      <td>0</td>\n",
       "      <td>342200.0</td>\n",
       "    </tr>\n",
       "  </tbody>\n",
       "</table>\n",
       "</div>"
      ],
      "text/plain": [
       "   longitude  latitude  housing_median_age  total_rooms  total_bedrooms  \\\n",
       "0  -1.327835  1.052548            0.982143    -0.804819       -0.975228   \n",
       "1  -1.322844  1.043185           -0.607019     2.045890        1.355088   \n",
       "2  -1.332827  1.038503            1.856182    -0.535746       -0.829732   \n",
       "3  -1.337818  1.038503            1.856182    -0.624215       -0.722399   \n",
       "4  -1.337818  1.038503            1.856182    -0.462404       -0.615066   \n",
       "\n",
       "   population  households  median_income  ocean_proximity_<1H OCEAN  \\\n",
       "0   -0.974429   -0.977033       2.344766                          0   \n",
       "1    0.861439    1.669961       2.332238                          0   \n",
       "2   -0.820777   -0.843637       1.782699                          0   \n",
       "3   -0.766028   -0.733781       0.932968                          0   \n",
       "4   -0.759847   -0.629157      -0.012881                          0   \n",
       "\n",
       "   ocean_proximity_INLAND  ocean_proximity_ISLAND  ocean_proximity_NEAR BAY  \\\n",
       "0                       0                       0                         1   \n",
       "1                       0                       0                         1   \n",
       "2                       0                       0                         1   \n",
       "3                       0                       0                         1   \n",
       "4                       0                       0                         1   \n",
       "\n",
       "   ocean_proximity_NEAR OCEAN  median_house_value  \n",
       "0                           0            452600.0  \n",
       "1                           0            358500.0  \n",
       "2                           0            352100.0  \n",
       "3                           0            341300.0  \n",
       "4                           0            342200.0  "
      ]
     },
     "execution_count": 79,
     "metadata": {},
     "output_type": "execute_result"
    }
   ],
   "source": [
    "final_df1.head()"
   ]
  },
  {
   "cell_type": "markdown",
   "id": "a6a84ef1-aa08-4f9e-912d-b3fed6396908",
   "metadata": {},
   "source": [
    "### simple regression"
   ]
  },
  {
   "cell_type": "code",
   "execution_count": 80,
   "id": "c3d14a72-1b06-4b86-b809-5a3bb6b56e8d",
   "metadata": {},
   "outputs": [],
   "source": [
    "df=pd.DataFrame()\n",
    "df['median_income']=final_df1['median_income']\n",
    "df['median_house_value']=final_df1['median_house_value']"
   ]
  },
  {
   "cell_type": "code",
   "execution_count": 81,
   "id": "b816a339-c2a6-4aad-b505-ef2c69b7d1da",
   "metadata": {},
   "outputs": [
    {
     "data": {
      "text/html": [
       "<div>\n",
       "<style scoped>\n",
       "    .dataframe tbody tr th:only-of-type {\n",
       "        vertical-align: middle;\n",
       "    }\n",
       "\n",
       "    .dataframe tbody tr th {\n",
       "        vertical-align: top;\n",
       "    }\n",
       "\n",
       "    .dataframe thead th {\n",
       "        text-align: right;\n",
       "    }\n",
       "</style>\n",
       "<table border=\"1\" class=\"dataframe\">\n",
       "  <thead>\n",
       "    <tr style=\"text-align: right;\">\n",
       "      <th></th>\n",
       "      <th>median_income</th>\n",
       "      <th>median_house_value</th>\n",
       "    </tr>\n",
       "  </thead>\n",
       "  <tbody>\n",
       "    <tr>\n",
       "      <th>0</th>\n",
       "      <td>2.344766</td>\n",
       "      <td>452600.0</td>\n",
       "    </tr>\n",
       "    <tr>\n",
       "      <th>1</th>\n",
       "      <td>2.332238</td>\n",
       "      <td>358500.0</td>\n",
       "    </tr>\n",
       "    <tr>\n",
       "      <th>2</th>\n",
       "      <td>1.782699</td>\n",
       "      <td>352100.0</td>\n",
       "    </tr>\n",
       "    <tr>\n",
       "      <th>3</th>\n",
       "      <td>0.932968</td>\n",
       "      <td>341300.0</td>\n",
       "    </tr>\n",
       "    <tr>\n",
       "      <th>4</th>\n",
       "      <td>-0.012881</td>\n",
       "      <td>342200.0</td>\n",
       "    </tr>\n",
       "  </tbody>\n",
       "</table>\n",
       "</div>"
      ],
      "text/plain": [
       "   median_income  median_house_value\n",
       "0       2.344766            452600.0\n",
       "1       2.332238            358500.0\n",
       "2       1.782699            352100.0\n",
       "3       0.932968            341300.0\n",
       "4      -0.012881            342200.0"
      ]
     },
     "execution_count": 81,
     "metadata": {},
     "output_type": "execute_result"
    }
   ],
   "source": [
    "df.head()"
   ]
  },
  {
   "cell_type": "code",
   "execution_count": 82,
   "id": "79eb04fe-55bb-48b8-a347-455971ba9f7c",
   "metadata": {},
   "outputs": [],
   "source": [
    "from sklearn.model_selection import train_test_split"
   ]
  },
  {
   "cell_type": "code",
   "execution_count": 83,
   "id": "b5374d57-24ee-4a0b-9749-3dfd7ffe448a",
   "metadata": {},
   "outputs": [],
   "source": [
    "train_df,test_df=train_test_split(df,train_size=0.8,random_state=43)\n"
   ]
  },
  {
   "cell_type": "code",
   "execution_count": 84,
   "id": "13d1340d-81d1-454b-ac56-b78dd1688cb1",
   "metadata": {},
   "outputs": [],
   "source": [
    "x_train=train_df.iloc[:,[0]]"
   ]
  },
  {
   "cell_type": "code",
   "execution_count": 85,
   "id": "7aea0d24-b997-4f58-9c38-1b2a812deca6",
   "metadata": {},
   "outputs": [],
   "source": [
    "y_train=train_df.iloc[:,[1]]\n",
    "x_test=test_df.iloc[:,[0]]\n",
    "y_test=test_df.iloc[:,[1]]"
   ]
  },
  {
   "cell_type": "code",
   "execution_count": 86,
   "id": "7b0a0e65-7053-48a1-ad46-7bf7ea16ae54",
   "metadata": {},
   "outputs": [],
   "source": [
    "from sklearn.linear_model import LinearRegression"
   ]
  },
  {
   "cell_type": "code",
   "execution_count": 87,
   "id": "4a7db1e0-04da-4c8c-8603-ab9235a9fa1a",
   "metadata": {},
   "outputs": [],
   "source": [
    "lr=LinearRegression()"
   ]
  },
  {
   "cell_type": "code",
   "execution_count": 88,
   "id": "cfd56401-ea59-42e1-b343-818da3b3439d",
   "metadata": {},
   "outputs": [
    {
     "data": {
      "text/plain": [
       "LinearRegression()"
      ]
     },
     "execution_count": 88,
     "metadata": {},
     "output_type": "execute_result"
    }
   ],
   "source": [
    "lr.fit(x_train,y_train)"
   ]
  },
  {
   "cell_type": "code",
   "execution_count": 89,
   "id": "b1b1df43-9e16-47a7-bc7c-b5b001b1a7fc",
   "metadata": {},
   "outputs": [],
   "source": [
    "y_pred_test=lr.predict(x_test)"
   ]
  },
  {
   "cell_type": "code",
   "execution_count": 90,
   "id": "b1d43fe1-7b4d-4ef8-ac27-08c3eb3c4358",
   "metadata": {},
   "outputs": [],
   "source": [
    "y_pred_train=lr.predict(x_train)"
   ]
  },
  {
   "cell_type": "code",
   "execution_count": 91,
   "id": "ebef490c-dbf0-4208-85cf-d10c92af2343",
   "metadata": {},
   "outputs": [],
   "source": [
    "from sklearn.metrics import r2_score"
   ]
  },
  {
   "cell_type": "code",
   "execution_count": 92,
   "id": "75d3007e-1890-40af-a230-8f0a32767c90",
   "metadata": {},
   "outputs": [
    {
     "data": {
      "text/plain": [
       "0.4854061844497555"
      ]
     },
     "execution_count": 92,
     "metadata": {},
     "output_type": "execute_result"
    }
   ],
   "source": [
    "r2_score(y_test,y_pred_test)"
   ]
  },
  {
   "cell_type": "code",
   "execution_count": 93,
   "id": "a114afec-f994-40da-8c48-ac822e79d0f5",
   "metadata": {},
   "outputs": [],
   "source": [
    "#model is not performing good for simple regression "
   ]
  },
  {
   "cell_type": "markdown",
   "id": "047d4544-6aff-4141-b807-59444071a533",
   "metadata": {},
   "source": [
    "### multiple regression"
   ]
  },
  {
   "cell_type": "code",
   "execution_count": 95,
   "id": "8235116a-813e-48a9-9dda-77a6f66978f3",
   "metadata": {},
   "outputs": [],
   "source": [
    "df_train,df_test=train_test_split(final_df1,train_size=0.8,random_state=43)"
   ]
  },
  {
   "cell_type": "code",
   "execution_count": 96,
   "id": "bdc6aaef-87db-42ae-a871-f10998be1d56",
   "metadata": {},
   "outputs": [],
   "source": [
    "x_df_train=df_train.iloc[:,:-1]"
   ]
  },
  {
   "cell_type": "code",
   "execution_count": 97,
   "id": "06f645a2-6217-4185-abd4-de32efe4a79f",
   "metadata": {},
   "outputs": [],
   "source": [
    "y_df_train=df_train.iloc[:,[-1]]\n",
    "x_df_test=df_test.iloc[:,:-1]\n",
    "y_df_test=df_test.iloc[:,[-1]]"
   ]
  },
  {
   "cell_type": "code",
   "execution_count": 98,
   "id": "90978d44-075c-45d8-ba7c-7e64a6ffc22f",
   "metadata": {},
   "outputs": [
    {
     "data": {
      "text/plain": [
       "LinearRegression()"
      ]
     },
     "execution_count": 98,
     "metadata": {},
     "output_type": "execute_result"
    }
   ],
   "source": [
    "lr.fit(x_df_train,y_df_train)"
   ]
  },
  {
   "cell_type": "code",
   "execution_count": 99,
   "id": "fbd01b34-4d4b-4b81-894f-156f3baea5e4",
   "metadata": {},
   "outputs": [],
   "source": [
    "y_pred_test=lr.predict(x_df_test)\n",
    "y_pred_train=lr.predict(x_df_train)"
   ]
  },
  {
   "cell_type": "code",
   "execution_count": 100,
   "id": "ced76d10-b759-4d3a-a9e9-8a6ab8d49da3",
   "metadata": {},
   "outputs": [
    {
     "data": {
      "text/plain": [
       "0.6348632138057448"
      ]
     },
     "execution_count": 100,
     "metadata": {},
     "output_type": "execute_result"
    }
   ],
   "source": [
    "r2_score(y_df_test,y_pred_test)"
   ]
  },
  {
   "cell_type": "code",
   "execution_count": 101,
   "id": "4b219712-82e0-45be-9d31-da23cb435952",
   "metadata": {},
   "outputs": [
    {
     "data": {
      "text/plain": [
       "0.6472523875449148"
      ]
     },
     "execution_count": 101,
     "metadata": {},
     "output_type": "execute_result"
    }
   ],
   "source": [
    "r2_score(y_df_train,y_pred_train)"
   ]
  },
  {
   "cell_type": "code",
   "execution_count": null,
   "id": "704edd35-9b16-4a85-a684-85deee53a71c",
   "metadata": {},
   "outputs": [],
   "source": []
  },
  {
   "cell_type": "markdown",
   "id": "c6383703-6a0a-44d4-93ee-c268ddbb843f",
   "metadata": {},
   "source": [
    "# still model is not working good. model seems to be underfitted"
   ]
  },
  {
   "cell_type": "markdown",
   "id": "0c68a14f-1418-411e-9891-0c21d288acdd",
   "metadata": {},
   "source": [
    "### lasso_regression"
   ]
  },
  {
   "cell_type": "code",
   "execution_count": 102,
   "id": "ddb3de6d-9b80-4dfc-b883-5d97229a5f3b",
   "metadata": {},
   "outputs": [],
   "source": [
    "from sklearn.linear_model import Lasso"
   ]
  },
  {
   "cell_type": "code",
   "execution_count": 103,
   "id": "a40c8005-9026-4198-9a32-88c369e8be57",
   "metadata": {},
   "outputs": [],
   "source": [
    "lasso=Lasso()"
   ]
  },
  {
   "cell_type": "code",
   "execution_count": 104,
   "id": "16e0f13d-c1e4-4625-8931-129a733024b6",
   "metadata": {},
   "outputs": [
    {
     "name": "stderr",
     "output_type": "stream",
     "text": [
      "C:\\Users\\Shree\\anaconda3\\lib\\site-packages\\sklearn\\linear_model\\_coordinate_descent.py:647: ConvergenceWarning: Objective did not converge. You might want to increase the number of iterations, check the scale of the features or consider increasing regularisation. Duality gap: 6.332e+12, tolerance: 2.198e+10\n",
      "  model = cd_fast.enet_coordinate_descent(\n"
     ]
    },
    {
     "data": {
      "text/plain": [
       "Lasso()"
      ]
     },
     "execution_count": 104,
     "metadata": {},
     "output_type": "execute_result"
    }
   ],
   "source": [
    "lasso.fit(x_df_train,y_df_train)"
   ]
  },
  {
   "cell_type": "code",
   "execution_count": 105,
   "id": "46e3eeba-5c24-4129-b815-ea2cd8bf4e90",
   "metadata": {},
   "outputs": [],
   "source": [
    "pred_lasso=lasso.predict(x_df_test)"
   ]
  },
  {
   "cell_type": "code",
   "execution_count": 106,
   "id": "bc0ede06-06b5-4f37-8648-45d50688f1ce",
   "metadata": {},
   "outputs": [
    {
     "data": {
      "text/plain": [
       "0.6348794770601668"
      ]
     },
     "execution_count": 106,
     "metadata": {},
     "output_type": "execute_result"
    }
   ],
   "source": [
    "r2_score(y_df_test,pred_lasso)"
   ]
  },
  {
   "cell_type": "markdown",
   "id": "b1f01edc-0c5e-4bb5-9d4a-f6b026e108f0",
   "metadata": {},
   "source": [
    "### ridge regression"
   ]
  },
  {
   "cell_type": "code",
   "execution_count": 107,
   "id": "60e63518-5d6f-4b55-81c2-a906cd483413",
   "metadata": {},
   "outputs": [],
   "source": [
    "from sklearn.linear_model import Ridge"
   ]
  },
  {
   "cell_type": "code",
   "execution_count": 108,
   "id": "b233ce4c-f7bf-42fa-9303-87a8a5e5a078",
   "metadata": {},
   "outputs": [],
   "source": [
    "ridge=Ridge()"
   ]
  },
  {
   "cell_type": "code",
   "execution_count": 109,
   "id": "4f045de4-71fb-409e-8161-6feff9ce4be2",
   "metadata": {},
   "outputs": [
    {
     "data": {
      "text/plain": [
       "Ridge()"
      ]
     },
     "execution_count": 109,
     "metadata": {},
     "output_type": "execute_result"
    }
   ],
   "source": [
    "ridge.fit(x_df_train,y_df_train)"
   ]
  },
  {
   "cell_type": "code",
   "execution_count": 110,
   "id": "617a82f7-57be-4ed6-a4f8-3f7f96a7de34",
   "metadata": {},
   "outputs": [],
   "source": [
    "pred_ridge=ridge.predict(x_df_test)"
   ]
  },
  {
   "cell_type": "code",
   "execution_count": 111,
   "id": "610c2e26-18fe-4263-a0b4-29c58c240fbc",
   "metadata": {},
   "outputs": [
    {
     "data": {
      "text/plain": [
       "0.6349457043608457"
      ]
     },
     "execution_count": 111,
     "metadata": {},
     "output_type": "execute_result"
    }
   ],
   "source": [
    "r2_score(y_df_test,pred_ridge)"
   ]
  },
  {
   "cell_type": "code",
   "execution_count": 112,
   "id": "55d5801c-ea97-4db5-bbe4-38ae32bf50f3",
   "metadata": {},
   "outputs": [],
   "source": [
    "### as model is still underfitted so changig the model"
   ]
  },
  {
   "cell_type": "markdown",
   "id": "03633fcd-64cc-4f67-9ed7-24ec3db32669",
   "metadata": {},
   "source": [
    "### applying dicision tree regressors"
   ]
  },
  {
   "cell_type": "code",
   "execution_count": 113,
   "id": "f1cbc713-73ca-47e7-932d-b9dbe07209e1",
   "metadata": {},
   "outputs": [],
   "source": [
    "from sklearn.tree import DecisionTreeRegressor"
   ]
  },
  {
   "cell_type": "code",
   "execution_count": 114,
   "id": "ee8e8c4b-6abf-4a24-88b9-3703b7091f63",
   "metadata": {},
   "outputs": [],
   "source": [
    "dr=DecisionTreeRegressor()"
   ]
  },
  {
   "cell_type": "code",
   "execution_count": 115,
   "id": "f58e8732-0961-449d-a5f5-309aa197011c",
   "metadata": {},
   "outputs": [
    {
     "data": {
      "text/plain": [
       "DecisionTreeRegressor()"
      ]
     },
     "execution_count": 115,
     "metadata": {},
     "output_type": "execute_result"
    }
   ],
   "source": [
    "dr.fit(x_df_train,y_df_train)"
   ]
  },
  {
   "cell_type": "code",
   "execution_count": 116,
   "id": "a680d4ff-0560-4864-a756-17da0ff43f30",
   "metadata": {},
   "outputs": [],
   "source": [
    "pred_dr=dr.predict(x_df_test)"
   ]
  },
  {
   "cell_type": "code",
   "execution_count": 117,
   "id": "80772b34-b096-45b1-b81f-6a0a217d6143",
   "metadata": {},
   "outputs": [],
   "source": [
    "from sklearn import metrics"
   ]
  },
  {
   "cell_type": "code",
   "execution_count": 118,
   "id": "532d149b-a4df-42ab-b97c-bec27eb83ade",
   "metadata": {},
   "outputs": [
    {
     "data": {
      "text/plain": [
       "0.6434368057733804"
      ]
     },
     "execution_count": 118,
     "metadata": {},
     "output_type": "execute_result"
    }
   ],
   "source": [
    "metrics.r2_score(y_df_test,pred_dr)"
   ]
  },
  {
   "cell_type": "markdown",
   "id": "ba2aa06d-cea5-412d-b340-d7a0560cf372",
   "metadata": {},
   "source": [
    "### applying gradient bostong regressor "
   ]
  },
  {
   "cell_type": "code",
   "execution_count": 119,
   "id": "7297f959-9188-4b63-b6ef-f3fc055c02e7",
   "metadata": {},
   "outputs": [],
   "source": [
    "from sklearn.ensemble import GradientBoostingRegressor"
   ]
  },
  {
   "cell_type": "code",
   "execution_count": 120,
   "id": "608dcac1-2aea-479b-8ce3-430c6c208d85",
   "metadata": {},
   "outputs": [],
   "source": [
    "gbr=GradientBoostingRegressor()"
   ]
  },
  {
   "cell_type": "code",
   "execution_count": 121,
   "id": "eff63e7c-c895-4f78-be03-90e1ab78d0de",
   "metadata": {},
   "outputs": [
    {
     "name": "stderr",
     "output_type": "stream",
     "text": [
      "C:\\Users\\Shree\\anaconda3\\lib\\site-packages\\sklearn\\ensemble\\_gb.py:494: DataConversionWarning: A column-vector y was passed when a 1d array was expected. Please change the shape of y to (n_samples, ), for example using ravel().\n",
      "  y = column_or_1d(y, warn=True)\n"
     ]
    },
    {
     "data": {
      "text/plain": [
       "GradientBoostingRegressor()"
      ]
     },
     "execution_count": 121,
     "metadata": {},
     "output_type": "execute_result"
    }
   ],
   "source": [
    "gbr.fit(x_df_train,y_df_train)"
   ]
  },
  {
   "cell_type": "code",
   "execution_count": 122,
   "id": "80c5078f-4e32-415f-9308-91883c756f90",
   "metadata": {},
   "outputs": [],
   "source": [
    "pred_gbr=gbr.predict(x_df_test)"
   ]
  },
  {
   "cell_type": "code",
   "execution_count": 123,
   "id": "f6687884-8d06-4e52-90de-e337a120938f",
   "metadata": {},
   "outputs": [
    {
     "data": {
      "text/plain": [
       "0.7812514493859899"
      ]
     },
     "execution_count": 123,
     "metadata": {},
     "output_type": "execute_result"
    }
   ],
   "source": [
    "metrics.r2_score(y_df_test,pred_gbr)"
   ]
  },
  {
   "cell_type": "markdown",
   "id": "782bff9d-1d9b-49a7-b916-a7e368f15f0a",
   "metadata": {},
   "source": [
    "### applying bagging-regressor"
   ]
  },
  {
   "cell_type": "code",
   "execution_count": 124,
   "id": "9da33080-92fc-4112-a749-1c8833ccf6e0",
   "metadata": {},
   "outputs": [],
   "source": [
    "from sklearn.ensemble import BaggingRegressor"
   ]
  },
  {
   "cell_type": "code",
   "execution_count": 125,
   "id": "fab9721c-c012-4869-8f59-2126d9189dfd",
   "metadata": {},
   "outputs": [],
   "source": [
    "br=BaggingRegressor()"
   ]
  },
  {
   "cell_type": "code",
   "execution_count": 126,
   "id": "243aea70-bc1d-4ada-9e5e-49c71314df84",
   "metadata": {},
   "outputs": [
    {
     "name": "stderr",
     "output_type": "stream",
     "text": [
      "C:\\Users\\Shree\\anaconda3\\lib\\site-packages\\sklearn\\ensemble\\_bagging.py:429: DataConversionWarning: A column-vector y was passed when a 1d array was expected. Please change the shape of y to (n_samples, ), for example using ravel().\n",
      "  return column_or_1d(y, warn=True)\n"
     ]
    },
    {
     "data": {
      "text/plain": [
       "BaggingRegressor()"
      ]
     },
     "execution_count": 126,
     "metadata": {},
     "output_type": "execute_result"
    }
   ],
   "source": [
    "br.fit(x_df_train,y_df_train)"
   ]
  },
  {
   "cell_type": "code",
   "execution_count": 127,
   "id": "568a7490-994c-4e2c-b3ed-dd03b1038b6d",
   "metadata": {},
   "outputs": [],
   "source": [
    "pred_br=br.predict(x_df_test)"
   ]
  },
  {
   "cell_type": "code",
   "execution_count": 128,
   "id": "9566c018-de88-45b0-8e91-67c85007605d",
   "metadata": {},
   "outputs": [
    {
     "data": {
      "text/plain": [
       "0.810898673522274"
      ]
     },
     "execution_count": 128,
     "metadata": {},
     "output_type": "execute_result"
    }
   ],
   "source": [
    "r2_score(y_df_test,pred_br)"
   ]
  },
  {
   "cell_type": "code",
   "execution_count": 129,
   "id": "ae029107-45db-4597-982c-2034354d92ce",
   "metadata": {},
   "outputs": [],
   "source": [
    "from sklearn.model_selection import GridSearchCV"
   ]
  },
  {
   "cell_type": "code",
   "execution_count": 130,
   "id": "7bc91f5c-bdd1-45c5-b5a9-c21470d68212",
   "metadata": {},
   "outputs": [],
   "source": [
    "param_grid_bagging={'n_estimators':list(range(1,100,10))}"
   ]
  },
  {
   "cell_type": "code",
   "execution_count": 131,
   "id": "3709f655-5b86-481d-9506-93b0b3f93baa",
   "metadata": {},
   "outputs": [],
   "source": [
    "grid_model=GridSearchCV(br,param_grid_bagging)"
   ]
  },
  {
   "cell_type": "code",
   "execution_count": 132,
   "id": "05f74a0e-f22b-44e8-819b-616ac9e2b60c",
   "metadata": {},
   "outputs": [],
   "source": [
    "import numpy as np\n",
    "y_df_train=np.ravel(y_df_train)\n"
   ]
  },
  {
   "cell_type": "code",
   "execution_count": 133,
   "id": "7edf05bf-ee9f-4150-871b-4a45d793ac7d",
   "metadata": {},
   "outputs": [
    {
     "data": {
      "text/plain": [
       "GridSearchCV(estimator=BaggingRegressor(),\n",
       "             param_grid={'n_estimators': [1, 11, 21, 31, 41, 51, 61, 71, 81,\n",
       "                                          91]})"
      ]
     },
     "execution_count": 133,
     "metadata": {},
     "output_type": "execute_result"
    }
   ],
   "source": [
    "grid_model.fit(x_df_train,y_df_train)"
   ]
  },
  {
   "cell_type": "code",
   "execution_count": 134,
   "id": "49f53761-02fa-48b3-95b0-977016f36f0d",
   "metadata": {},
   "outputs": [
    {
     "data": {
      "text/plain": [
       "BaggingRegressor(n_estimators=81)"
      ]
     },
     "execution_count": 134,
     "metadata": {},
     "output_type": "execute_result"
    }
   ],
   "source": [
    "grid_model.best_estimator_"
   ]
  },
  {
   "cell_type": "code",
   "execution_count": 135,
   "id": "8ec1e742-7a56-477d-977a-dbb7f2370f09",
   "metadata": {},
   "outputs": [],
   "source": [
    "br=BaggingRegressor(n_estimators=71,bootstrap=True,oob_score=True)"
   ]
  },
  {
   "cell_type": "code",
   "execution_count": 136,
   "id": "1b88ccca-488e-4867-94d3-96e7e6f8518c",
   "metadata": {},
   "outputs": [
    {
     "data": {
      "text/plain": [
       "BaggingRegressor(n_estimators=71, oob_score=True)"
      ]
     },
     "execution_count": 136,
     "metadata": {},
     "output_type": "execute_result"
    }
   ],
   "source": [
    "br.fit(x_df_train,y_df_train)"
   ]
  },
  {
   "cell_type": "code",
   "execution_count": 137,
   "id": "a126c704-38ef-4f91-afc6-a80edb0f991a",
   "metadata": {},
   "outputs": [],
   "source": [
    "pred_br=br.predict(x_df_test)"
   ]
  },
  {
   "cell_type": "code",
   "execution_count": 138,
   "id": "84f096ac-14e9-4a65-bcb3-894873ba56ba",
   "metadata": {},
   "outputs": [
    {
     "data": {
      "text/plain": [
       "0.8298596005478938"
      ]
     },
     "execution_count": 138,
     "metadata": {},
     "output_type": "execute_result"
    }
   ],
   "source": [
    "r2_score(y_df_test,pred_br)"
   ]
  },
  {
   "cell_type": "code",
   "execution_count": 139,
   "id": "2dea2b31-ea90-43fc-b168-706cfbb22343",
   "metadata": {},
   "outputs": [],
   "source": [
    "### hence model is performing better with bagging regressor with accuracy of 82.88%"
   ]
  },
  {
   "cell_type": "code",
   "execution_count": 140,
   "id": "ebc6d5e3-c3a0-44cc-93de-b0d1dca9406e",
   "metadata": {},
   "outputs": [],
   "source": [
    "df=pd.DataFrame()"
   ]
  },
  {
   "cell_type": "code",
   "execution_count": 141,
   "id": "3cdd6d8d-a45b-4924-9540-e78d8b718adb",
   "metadata": {},
   "outputs": [],
   "source": [
    "df['Regressor']=['linear-regression-univariate','linear-regression-multivariate','ridge-regressor','lasso-regressor','dicisoin-tree-regressor','GradientBoostingRegressor','BaggingRegressor','BaggingRegressor-with grid serch cv']"
   ]
  },
  {
   "cell_type": "code",
   "execution_count": 142,
   "id": "88e34d0f-0079-4850-8df9-0d1de92f63d8",
   "metadata": {},
   "outputs": [],
   "source": [
    "df['r2_score']=[48.5,64.7,63.4,63.4,64.7,78.1,81,82.8]"
   ]
  },
  {
   "cell_type": "code",
   "execution_count": 143,
   "id": "1509f459-d2b0-40d0-ae85-a23261d10980",
   "metadata": {},
   "outputs": [
    {
     "data": {
      "text/html": [
       "<div>\n",
       "<style scoped>\n",
       "    .dataframe tbody tr th:only-of-type {\n",
       "        vertical-align: middle;\n",
       "    }\n",
       "\n",
       "    .dataframe tbody tr th {\n",
       "        vertical-align: top;\n",
       "    }\n",
       "\n",
       "    .dataframe thead th {\n",
       "        text-align: right;\n",
       "    }\n",
       "</style>\n",
       "<table border=\"1\" class=\"dataframe\">\n",
       "  <thead>\n",
       "    <tr style=\"text-align: right;\">\n",
       "      <th></th>\n",
       "      <th>Regressor</th>\n",
       "      <th>r2_score</th>\n",
       "    </tr>\n",
       "  </thead>\n",
       "  <tbody>\n",
       "    <tr>\n",
       "      <th>0</th>\n",
       "      <td>linear-regression-univariate</td>\n",
       "      <td>48.5</td>\n",
       "    </tr>\n",
       "    <tr>\n",
       "      <th>1</th>\n",
       "      <td>linear-regression-multivariate</td>\n",
       "      <td>62.6</td>\n",
       "    </tr>\n",
       "    <tr>\n",
       "      <th>2</th>\n",
       "      <td>ridge-ressor</td>\n",
       "      <td>62.0</td>\n",
       "    </tr>\n",
       "    <tr>\n",
       "      <th>3</th>\n",
       "      <td>lasso-regressor</td>\n",
       "      <td>62.6</td>\n",
       "    </tr>\n",
       "    <tr>\n",
       "      <th>4</th>\n",
       "      <td>dicisoin-tree-regressor</td>\n",
       "      <td>66.7</td>\n",
       "    </tr>\n",
       "    <tr>\n",
       "      <th>5</th>\n",
       "      <td>GradientBoostingRegressor</td>\n",
       "      <td>78.3</td>\n",
       "    </tr>\n",
       "    <tr>\n",
       "      <th>6</th>\n",
       "      <td>BaggingRegressor</td>\n",
       "      <td>81.1</td>\n",
       "    </tr>\n",
       "    <tr>\n",
       "      <th>7</th>\n",
       "      <td>BaggingRegressor-with grid serch cv</td>\n",
       "      <td>82.8</td>\n",
       "    </tr>\n",
       "  </tbody>\n",
       "</table>\n",
       "</div>"
      ],
      "text/plain": [
       "                             Regressor  r2_score\n",
       "0         linear-regression-univariate      48.5\n",
       "1       linear-regression-multivariate      62.6\n",
       "2                         ridge-ressor      62.0\n",
       "3                      lasso-regressor      62.6\n",
       "4              dicisoin-tree-regressor      66.7\n",
       "5            GradientBoostingRegressor      78.3\n",
       "6                     BaggingRegressor      81.1\n",
       "7  BaggingRegressor-with grid serch cv      82.8"
      ]
     },
     "execution_count": 143,
     "metadata": {},
     "output_type": "execute_result"
    }
   ],
   "source": [
    "df"
   ]
  },
  {
   "cell_type": "code",
   "execution_count": null,
   "id": "1ad29b89-3477-4e8d-809c-b91e7851ed26",
   "metadata": {},
   "outputs": [],
   "source": []
  }
 ],
 "metadata": {
  "kernelspec": {
   "display_name": "Python 3 (ipykernel)",
   "language": "python",
   "name": "python3"
  },
  "language_info": {
   "codemirror_mode": {
    "name": "ipython",
    "version": 3
   },
   "file_extension": ".py",
   "mimetype": "text/x-python",
   "name": "python",
   "nbconvert_exporter": "python",
   "pygments_lexer": "ipython3",
   "version": "3.9.12"
  }
 },
 "nbformat": 4,
 "nbformat_minor": 5
}
